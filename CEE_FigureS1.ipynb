{
 "cells": [
  {
   "cell_type": "markdown",
   "metadata": {},
   "source": [
    "# Import packages"
   ]
  },
  {
   "cell_type": "code",
   "execution_count": null,
   "metadata": {},
   "outputs": [],
   "source": [
    "import os\n",
    "import cv2\n",
    "import cmaps\n",
    "import cmocean\n",
    "import numpy as np\n",
    "import xarray as xr\n",
    "import scipy.io as sio\n",
    "import matplotlib.pyplot as plt\n",
    "import matplotlib as mpl\n",
    "import matplotlib.gridspec as gridspec\n",
    "from netCDF4 import Dataset\n",
    "from datetime import date\n",
    "from mpl_toolkits.basemap import Basemap\n",
    "from matplotlib.pyplot import Polygon\n",
    "from matplotlib import rcParams\n",
    "from matplotlib.backends.backend_pdf import PdfPages\n",
    "version = mpl.__version__\n",
    "rcParams['font.family'] = 'sans-serif'\n",
    "directory   = '/srv/scratch/z3533156'"
   ]
  },
  {
   "cell_type": "markdown",
   "metadata": {},
   "source": [
    "# Import time functions"
   ]
  },
  {
   "cell_type": "code",
   "execution_count": null,
   "metadata": {},
   "outputs": [],
   "source": [
    "def datestring_to_serial_day(datestring,epochY=1990,epochm=1,epochd=1,epochH=0,epochM=0):\n",
    "    import pandas as pd\n",
    "    import datetime\n",
    "    serial_day_timedelta = pd.to_datetime(datestring) - datetime.datetime(epochY,epochm,epochd,epochH,epochM)\n",
    "    corrected_serial_day_number = serial_day_timedelta.days + serial_day_timedelta.seconds/86400\n",
    "    return corrected_serial_day_number\n",
    "def serial_day_to_datestring(day,epochY=1990,epochm=1,epochd=1,epochH=0,epochM=0):\n",
    "    import datetime\n",
    "    corrected_date = datetime.datetime(epochY,epochm,epochd,epochH,epochM) + datetime.timedelta(day)\n",
    "    return corrected_date.strftime(\"%Y-%m\")  "
   ]
  },
  {
   "cell_type": "markdown",
   "metadata": {},
   "source": [
    "# Read mean SSTA"
   ]
  },
  {
   "cell_type": "code",
   "execution_count": null,
   "metadata": {},
   "outputs": [],
   "source": [
    "dataset       = sio.loadmat(directory+'/MHW/Figure_data/Figure1_OSTIA_MHW.mat')\n",
    "time_monthly  = dataset['time_monthly'][:,0]\n",
    "SSTA_monthly  = dataset['SSTA_monthly']\n",
    "SSTA_Dec      = dataset['SSTA_Dec'][0,:]\n",
    "SSTA_Jan      = dataset['SSTA_Jan'][0,:]\n",
    "SSTA_Feb      = dataset['SSTA_Feb'][0,:]\n",
    "monthly_t     = np.arange(date(1993,1,1).toordinal(),date(2022,12,31).toordinal()+1,365.5)\n",
    "monthly_dates = [date.fromordinal(tt.astype(int)) for tt in monthly_t]"
   ]
  },
  {
   "cell_type": "markdown",
   "metadata": {},
   "source": [
    "# Plot the time series of DJF SSTA "
   ]
  },
  {
   "cell_type": "code",
   "execution_count": null,
   "metadata": {},
   "outputs": [],
   "source": [
    "levels1       = np.linspace(-2,2,50)\n",
    "tick_marks1   = np.linspace(-2,2,5)\n",
    "levels2       = np.linspace(-0.5,0.5,50)\n",
    "tick_marks2   = np.linspace(-0.5,0.5,6)\n",
    "ssh_levels1   = np.linspace(0.949,0.951,2)\n",
    "ssh_levels2   = np.linspace(0,0.5,6)\n",
    "ssh_levels3   = np.linspace(-0.5,0,6)\n",
    "fig_ratio     = 0.9\n",
    "labelfont     = 50\n",
    "padspacescale = 50\n",
    "labelpadscale = 10\n",
    "linefont      = 5\n",
    "scale         = 1.0\n",
    "m_scale       = 6\n",
    "fig           = plt.figure(figsize=(12, 12))\n",
    "gs            = gridspec.GridSpec(1,1)\n",
    "labels        = ['a']\n",
    "# #%%%%%%%%%%%%%%%%%%%%%%%%%%%%%%%%%%%%%%%%%%%%%%%%%%%%%%%%%%%%%%%%%%%%%%\n",
    "ax1 = fig.add_subplot(gs[0])\n",
    "l, b, w, h = ax1.get_position().bounds\n",
    "ax1.set_position([l, b, scale*w*3, scale*h])\n",
    "legends = ['DEC','JAN','FEB']\n",
    "plt.plot(monthly_dates, SSTA_Dec, color='red',        linewidth=2*linefont, marker='o', ms='30', zorder=3)\n",
    "plt.plot(monthly_dates, SSTA_Jan, color='dodgerblue', linewidth=2*linefont)\n",
    "plt.plot(monthly_dates, SSTA_Feb, color='orange',     linewidth=2*linefont)\n",
    "plt.legend(legends, loc = 2, ncol = 3, fontsize=40, facecolor='xkcd:pale blue', frameon=True,  framealpha=0.8)\n",
    "plt.plot(monthly_dates, SSTA_Feb*0,color='black',      linewidth=2*linefont,linestyle='dashed')\n",
    "plt.xlim(monthly_dates[0], monthly_dates[-1])\n",
    "plt.ylim(-2.0,2.0)\n",
    "xminorLocator   = mpl.dates.YearLocator(1)\n",
    "xmajorLocator   = mpl.dates.YearLocator(2)\n",
    "xmajorFormatter = mpl.dates.DateFormatter('%Y')\n",
    "yminorLocator   = plt.MultipleLocator(0.5)\n",
    "ax1.xaxis.set_minor_locator(xminorLocator)\n",
    "ax1.xaxis.set_major_locator(xmajorLocator)\n",
    "ax1.xaxis.set_major_formatter(xmajorFormatter)\n",
    "ax1.axes.xaxis.set_tick_params(pad=3*labelpadscale)\n",
    "ax1.yaxis.set_minor_locator(yminorLocator)\n",
    "ax1.axes.yaxis.set_tick_params(pad=3*labelpadscale)\n",
    "ax1.spines['bottom'].set_linewidth(labelpadscale)\n",
    "ax1.spines['left'].set_linewidth(labelpadscale)\n",
    "ax1.spines['top'].set_linewidth(labelpadscale)\n",
    "ax1.spines['right'].set_linewidth(labelpadscale)\n",
    "plt.xticks(fontsize=labelfont*0.8)\n",
    "plt.xlabel('Year',fontsize=labelfont*0.9,labelpad=5)\n",
    "plt.ylabel(r'Monthly SSTA ($^\\circ$C)',fontsize=labelfont*0.9,labelpad=4)\n",
    "plt.yticks([-2.0,-1.0,0,1.0,2.0], ['-2.0','-1.0','0','1.0','2.0'],fontsize=0.8*labelfont)\n",
    "plt.tick_params(axis='x',which='minor',bottom='on',left='on',top='on',right='on',length=20.0,width=10,colors='black',direction='in')\n",
    "plt.tick_params(axis='x',which='major',bottom='on',left='on',top='on',right='on',length=30.0,width=10,colors='black',direction='in')\n",
    "plt.tick_params(axis='y',which='minor',bottom='on',left='on',top='on',right='on',length=20.0,width=10,colors='black',direction='in')\n",
    "plt.tick_params(axis='y',which='major',bottom='on',left='on',top='on',right='on',length=30.0,width=10,colors='black',direction='in')\n",
    "fig.savefig(directory+'/MHW/Figure_plots/FigureS1_SSTA.png',dpi=300,bbox_inches = 'tight')"
   ]
  }
 ],
 "metadata": {
  "kernelspec": {
   "display_name": "Python 3.10.8 (ipykernel)",
   "language": "python",
   "name": "python-3.10.8"
  },
  "language_info": {
   "codemirror_mode": {
    "name": "ipython",
    "version": 3
   },
   "file_extension": ".py",
   "mimetype": "text/x-python",
   "name": "python",
   "nbconvert_exporter": "python",
   "pygments_lexer": "ipython3",
   "version": "3.10.8"
  }
 },
 "nbformat": 4,
 "nbformat_minor": 4
}
